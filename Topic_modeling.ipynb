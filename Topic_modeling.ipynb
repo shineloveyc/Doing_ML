{
  "nbformat": 4,
  "nbformat_minor": 0,
  "metadata": {
    "colab": {
      "name": "Topic_modeling.ipynb",
      "provenance": [],
      "authorship_tag": "ABX9TyNd8K1bAjHlH5meMmnHZNvT",
      "include_colab_link": true
    },
    "kernelspec": {
      "name": "python3",
      "display_name": "Python 3"
    }
  },
  "cells": [
    {
      "cell_type": "markdown",
      "metadata": {
        "id": "view-in-github",
        "colab_type": "text"
      },
      "source": [
        "<a href=\"https://colab.research.google.com/github/shineloveyc/Doing_ML/blob/master/Topic_modeling.ipynb\" target=\"_parent\"><img src=\"https://colab.research.google.com/assets/colab-badge.svg\" alt=\"Open In Colab\"/></a>"
      ]
    },
    {
      "cell_type": "markdown",
      "metadata": {
        "id": "Ua0WCaUCpuvj",
        "colab_type": "text"
      },
      "source": [
        "Latent Dirichlet Allocation(LDA) for topic modeling"
      ]
    },
    {
      "cell_type": "code",
      "metadata": {
        "id": "ePmCOvYcpoxX",
        "colab_type": "code",
        "colab": {}
      },
      "source": [
        "#load the library\n",
        "import pandas as pd\n",
        "import tarfile\n",
        "from pathlib import Path\n",
        "#import pyprind #python progress indicator\n",
        "import os\n",
        "from fastai.vision import *"
      ],
      "execution_count": 0,
      "outputs": []
    },
    {
      "cell_type": "code",
      "metadata": {
        "id": "zxAvZkT0tNQl",
        "colab_type": "code",
        "outputId": "927ec760-4a9e-4a8c-8590-6a8e72dc1a5f",
        "colab": {
          "base_uri": "https://localhost:8080/",
          "height": 122
        }
      },
      "source": [
        "from google.colab import drive\n",
        "drive.mount('/content/gdrive', force_remount=True)\n",
        "root_dir = \"/content/gdrive/My Drive/\"\n",
        "base_dir = root_dir + 'Colab Notebooks/'"
      ],
      "execution_count": 0,
      "outputs": [
        {
          "output_type": "stream",
          "text": [
            "Go to this URL in a browser: https://accounts.google.com/o/oauth2/auth?client_id=947318989803-6bn6qk8qdgf4n4g3pfee6491hc0brc4i.apps.googleusercontent.com&redirect_uri=urn%3aietf%3awg%3aoauth%3a2.0%3aoob&response_type=code&scope=email%20https%3a%2f%2fwww.googleapis.com%2fauth%2fdocs.test%20https%3a%2f%2fwww.googleapis.com%2fauth%2fdrive%20https%3a%2f%2fwww.googleapis.com%2fauth%2fdrive.photos.readonly%20https%3a%2f%2fwww.googleapis.com%2fauth%2fpeopleapi.readonly\n",
            "\n",
            "Enter your authorization code:\n",
            "··········\n",
            "Mounted at /content/gdrive\n"
          ],
          "name": "stdout"
        }
      ]
    },
    {
      "cell_type": "code",
      "metadata": {
        "id": "win-8do0tcH0",
        "colab_type": "code",
        "outputId": "3bdd35a7-ec18-423a-b60f-388f27d9b855",
        "colab": {
          "base_uri": "https://localhost:8080/",
          "height": 34
        }
      },
      "source": [
        "#set up the path to read data\n",
        "path = Path(base_dir + 'data/')\n",
        "print(path)"
      ],
      "execution_count": 0,
      "outputs": [
        {
          "output_type": "stream",
          "text": [
            "/content/gdrive/My Drive/Colab Notebooks/data\n"
          ],
          "name": "stdout"
        }
      ]
    },
    {
      "cell_type": "code",
      "metadata": {
        "id": "zMKdFF1-tbtX",
        "colab_type": "code",
        "colab": {}
      },
      "source": [
        "#check current working directory\n",
        "os.chdir(path)"
      ],
      "execution_count": 0,
      "outputs": []
    },
    {
      "cell_type": "code",
      "metadata": {
        "id": "aC1ZuXjqtkv-",
        "colab_type": "code",
        "outputId": "de3114cf-5a31-4cb8-ada3-f035c5d6318e",
        "colab": {
          "base_uri": "https://localhost:8080/",
          "height": 34
        }
      },
      "source": [
        "os.getcwd()"
      ],
      "execution_count": 0,
      "outputs": [
        {
          "output_type": "execute_result",
          "data": {
            "text/plain": [
              "'/content/gdrive/My Drive/Colab Notebooks/data'"
            ]
          },
          "metadata": {
            "tags": []
          },
          "execution_count": 16
        }
      ]
    },
    {
      "cell_type": "code",
      "metadata": {
        "id": "Wklnfq_ctswr",
        "colab_type": "code",
        "outputId": "24f6fa26-6e9c-4a6d-bf0e-5f2e6b2f11c1",
        "colab": {
          "base_uri": "https://localhost:8080/",
          "height": 142
        }
      },
      "source": [
        "df = pd.read_csv('movie_data.csv', encoding = 'utf-8')\n",
        "df.head(3)"
      ],
      "execution_count": 0,
      "outputs": [
        {
          "output_type": "execute_result",
          "data": {
            "text/html": [
              "<div>\n",
              "<style scoped>\n",
              "    .dataframe tbody tr th:only-of-type {\n",
              "        vertical-align: middle;\n",
              "    }\n",
              "\n",
              "    .dataframe tbody tr th {\n",
              "        vertical-align: top;\n",
              "    }\n",
              "\n",
              "    .dataframe thead th {\n",
              "        text-align: right;\n",
              "    }\n",
              "</style>\n",
              "<table border=\"1\" class=\"dataframe\">\n",
              "  <thead>\n",
              "    <tr style=\"text-align: right;\">\n",
              "      <th></th>\n",
              "      <th>review</th>\n",
              "      <th>sentiment</th>\n",
              "    </tr>\n",
              "  </thead>\n",
              "  <tbody>\n",
              "    <tr>\n",
              "      <th>0</th>\n",
              "      <td>I just finished watching this movie and I must...</td>\n",
              "      <td>1</td>\n",
              "    </tr>\n",
              "    <tr>\n",
              "      <th>1</th>\n",
              "      <td>Dustin Hoffman's debut feature isn't as bad as...</td>\n",
              "      <td>0</td>\n",
              "    </tr>\n",
              "    <tr>\n",
              "      <th>2</th>\n",
              "      <td>One of the best \"Amitabh comeback\" movies I li...</td>\n",
              "      <td>1</td>\n",
              "    </tr>\n",
              "  </tbody>\n",
              "</table>\n",
              "</div>"
            ],
            "text/plain": [
              "                                              review  sentiment\n",
              "0  I just finished watching this movie and I must...          1\n",
              "1  Dustin Hoffman's debut feature isn't as bad as...          0\n",
              "2  One of the best \"Amitabh comeback\" movies I li...          1"
            ]
          },
          "metadata": {
            "tags": []
          },
          "execution_count": 17
        }
      ]
    },
    {
      "cell_type": "code",
      "metadata": {
        "id": "Qvsv2yK3uYfl",
        "colab_type": "code",
        "colab": {}
      },
      "source": [
        "from sklearn.feature_extraction.text import CountVectorizer\n",
        "\n",
        "count = CountVectorizer(stop_words='english',\n",
        "                        max_df = 0.1,\n",
        "                        max_features = 5000)\n",
        "#max_features: top 5000 words, max_df: freq larger than threashold will be exclude\n",
        "\n",
        "X = count.fit_transform(df['review'].values)"
      ],
      "execution_count": 0,
      "outputs": []
    },
    {
      "cell_type": "code",
      "metadata": {
        "id": "f8NpFG7mCGLg",
        "colab_type": "code",
        "outputId": "4e28f749-870b-44f0-9000-75c706df317f",
        "colab": {
          "base_uri": "https://localhost:8080/",
          "height": 34
        }
      },
      "source": [
        "X.shape"
      ],
      "execution_count": 0,
      "outputs": [
        {
          "output_type": "execute_result",
          "data": {
            "text/plain": [
              "(50000, 5000)"
            ]
          },
          "metadata": {
            "tags": []
          },
          "execution_count": 36
        }
      ]
    },
    {
      "cell_type": "code",
      "metadata": {
        "id": "YdWacSVivRW_",
        "colab_type": "code",
        "colab": {}
      },
      "source": [
        "#learn the topic\n",
        "from sklearn.decomposition import LatentDirichletAllocation\n",
        "\n",
        "lad = LatentDirichletAllocation(n_components = 10,\n",
        "                                random_state = 123,\n",
        "                                learning_method = 'batch') #setting to bacth means train all data at once, alternativ is 'online'\n",
        "\n",
        "X_topics = lad.fit_transform(X)"
      ],
      "execution_count": 0,
      "outputs": []
    },
    {
      "cell_type": "code",
      "metadata": {
        "id": "dKZ3VXCcB9uE",
        "colab_type": "code",
        "outputId": "1ae43562-904b-4bae-fba7-1f99713c9827",
        "colab": {
          "base_uri": "https://localhost:8080/",
          "height": 34
        }
      },
      "source": [
        "X_topics.shape"
      ],
      "execution_count": 0,
      "outputs": [
        {
          "output_type": "execute_result",
          "data": {
            "text/plain": [
              "(50000, 10)"
            ]
          },
          "metadata": {
            "tags": []
          },
          "execution_count": 35
        }
      ]
    },
    {
      "cell_type": "code",
      "metadata": {
        "id": "gRURHJ--6TsQ",
        "colab_type": "code",
        "outputId": "5b1d0f94-a900-4f39-b204-3c004e04b7ba",
        "colab": {
          "base_uri": "https://localhost:8080/",
          "height": 34
        }
      },
      "source": [
        "#store a matrix containing the word importance(5000) for each of the 10 topics in increasing order\n",
        "lad.components_.shape"
      ],
      "execution_count": 0,
      "outputs": [
        {
          "output_type": "execute_result",
          "data": {
            "text/plain": [
              "(10, 5000)"
            ]
          },
          "metadata": {
            "tags": []
          },
          "execution_count": 26
        }
      ]
    },
    {
      "cell_type": "code",
      "metadata": {
        "id": "7svtgjqL6bV8",
        "colab_type": "code",
        "outputId": "1809dfca-45f9-46c5-b57a-fc0a46b2ed65",
        "colab": {
          "base_uri": "https://localhost:8080/",
          "height": 357
        }
      },
      "source": [
        "#print five most important words for each of the 10 topics\n",
        "n_top_words =5\n",
        "feature_names = count.get_feature_names()\n",
        "\n",
        "for topic_idx, topic in enumerate(lad.components_):\n",
        "  print(\"Topic %d:\" % (topic_idx + 1))\n",
        "  print(\" \".join([feature_names[i] for i in topic.argsort()\\  #sort the word in each topic in a reverse order, becasue the the importance value sorted in increasing order\n",
        "                  [:-n_top_words - 1:-1]]))"
      ],
      "execution_count": 0,
      "outputs": [
        {
          "output_type": "stream",
          "text": [
            "Topic 1:\n",
            "worst minutes awful script stupid\n",
            "Topic 2:\n",
            "family mother father children girl\n",
            "Topic 3:\n",
            "war american dvd music tv\n",
            "Topic 4:\n",
            "human audience cinema art sense\n",
            "Topic 5:\n",
            "police guy car dead murder\n",
            "Topic 6:\n",
            "horror house sex girl blood\n",
            "Topic 7:\n",
            "role performance comedy actor performances\n",
            "Topic 8:\n",
            "series episode episodes tv season\n",
            "Topic 9:\n",
            "book version original effects fi\n",
            "Topic 10:\n",
            "action guy fight guys cool\n"
          ],
          "name": "stdout"
        }
      ]
    },
    {
      "cell_type": "code",
      "metadata": {
        "id": "-jt_Q5OxANk8",
        "colab_type": "code",
        "outputId": "7f1f8fe8-eaa1-4590-e954-76e196101678",
        "colab": {
          "base_uri": "https://localhost:8080/",
          "height": 190
        }
      },
      "source": [
        "#horror topic is in index 5\n",
        "horror = X_topics[:, 5].argsort()[::1]\n",
        "\n",
        "#print first 300 characters from the top three horror movies\n",
        "for iter_idx, movie_idx in enumerate(horror[:3]):\n",
        "  print('\\nHorror movie #%d:' % (iter_idx + 1))\n",
        "  print(df['review'][movie_idx][:300], '...')"
      ],
      "execution_count": 0,
      "outputs": [
        {
          "output_type": "stream",
          "text": [
            "\n",
            "Horror movie #1:\n",
            "Match 1: Tag Team Table Match Bubba Ray and Spike Dudley vs Eddie Guerrero and Chris Benoit Bubba Ray and Spike Dudley started things off with a Tag Team Table Match against Eddie Guerrero and Chris Benoit. According to the rules of the match, both opponents have to go through tables in order to get ...\n",
            "\n",
            "Horror movie #2:\n",
            "(Some spoilers included:)<br /><br />Although, many commentators have called this film surreal, the term fits poorly here. To quote from Encyclopedia Britannica's, surreal means:<br /><br />\"Fantastic or incongruous imagery\": One needn't explain to the unimaginative how many ways a plucky ten-year-o ...\n",
            "\n",
            "Horror movie #3:\n",
            "Titanic directed by James Cameron presents a fictional love story on the historical setting of the Titanic. The plot is simple, noncomplicated, or not for those who love plots that twist and turn and keep you in suspense. The end of the movie can be figured out within minutes of the start of the fil ...\n"
          ],
          "name": "stdout"
        }
      ]
    }
  ]
}