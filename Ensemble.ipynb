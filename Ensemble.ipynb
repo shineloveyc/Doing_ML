{
  "nbformat": 4,
  "nbformat_minor": 0,
  "metadata": {
    "colab": {
      "name": "Chapter7_Ensemble.ipynb",
      "provenance": [],
      "authorship_tag": "ABX9TyOZmdxS7NLEzfLjdPHIOSVL",
      "include_colab_link": true
    },
    "kernelspec": {
      "name": "python3",
      "display_name": "Python 3"
    }
  },
  "cells": [
    {
      "cell_type": "markdown",
      "metadata": {
        "id": "view-in-github",
        "colab_type": "text"
      },
      "source": [
        "<a href=\"https://colab.research.google.com/github/shineloveyc/Doing_ML/blob/master/Chapter7_Ensemble.ipynb\" target=\"_parent\"><img src=\"https://colab.research.google.com/assets/colab-badge.svg\" alt=\"Open In Colab\"/></a>"
      ]
    },
    {
      "cell_type": "markdown",
      "metadata": {
        "id": "7_SeL7Rv94I_",
        "colab_type": "text"
      },
      "source": [
        "* Make predictions based on majority voting >= 50% vote\n",
        "* Use bagging to reduce overfitting by drawing random combinations of the\n",
        "training set with repetition\n",
        "* Apply boosting to build powerful models from weak learners that learn from\n",
        "their mistakes"
      ]
    },
    {
      "cell_type": "code",
      "metadata": {
        "id": "f2Rh9phM9dUU",
        "colab_type": "code",
        "colab": {}
      },
      "source": [
        "#applying bagging to wine classification\n",
        "import pandas as pd\n"
      ],
      "execution_count": 0,
      "outputs": []
    },
    {
      "cell_type": "code",
      "metadata": {
        "id": "nSiD5SOk98RP",
        "colab_type": "code",
        "colab": {}
      },
      "source": [
        "df_wine = pd.read_csv('https://archive.ics.uci.edu/ml/''machine-learning-databases/wine/wine.data',header=None)"
      ],
      "execution_count": 0,
      "outputs": []
    },
    {
      "cell_type": "code",
      "metadata": {
        "id": "sJCaOSxzPoq9",
        "colab_type": "code",
        "colab": {}
      },
      "source": [
        "df_wine.columns = ['Class label', 'Alcohol',\n",
        "'Malic acid', 'Ash',\n",
        "'Alcalinity of ash',\n",
        "'Magnesium', 'Total phenols',\n",
        "'Flavanoids', 'Nonflavanoid phenols',\n",
        "'Proanthocyanins',\n",
        "'Color intensity', 'Hue',\n",
        "'OD280/OD315 of diluted wines',\n",
        "'Proline']"
      ],
      "execution_count": 0,
      "outputs": []
    },
    {
      "cell_type": "code",
      "metadata": {
        "id": "zKDJ7QnLQHt6",
        "colab_type": "code",
        "colab": {}
      },
      "source": [
        "#drop 1 class\n",
        "df_wine = df_wine[df_wine['Class label']!=1]\n",
        "y = df_wine['Class label'].values\n",
        "#just using two features two predication\n",
        "X = df_wine[['Alcohol','OD280/OD315 of diluted wines']].values"
      ],
      "execution_count": 0,
      "outputs": []
    },
    {
      "cell_type": "code",
      "metadata": {
        "id": "brgoVHOCQozo",
        "colab_type": "code",
        "colab": {}
      },
      "source": [
        "from sklearn.preprocessing import LabelEncoder\n",
        "from sklearn.model_selection import train_test_split\n",
        "from sklearn.pipeline import Pipeline\n",
        "\n",
        "le = LabelEncoder()\n",
        "y = le.fit_transform(y)\n",
        "\n",
        "X_train, X_test, y_train, y_test = train_test_split(X,y, test_size = 0.2, random_state = 1, stratify = y)"
      ],
      "execution_count": 0,
      "outputs": []
    },
    {
      "cell_type": "code",
      "metadata": {
        "id": "AA0PVjMzRnSp",
        "colab_type": "code",
        "colab": {}
      },
      "source": [
        "from sklearn.ensemble import BaggingClassifier\n",
        "\n",
        "from sklearn.tree import DecisionTreeClassifier"
      ],
      "execution_count": 0,
      "outputs": []
    },
    {
      "cell_type": "code",
      "metadata": {
        "id": "NYyWLKPJRtbv",
        "colab_type": "code",
        "colab": {}
      },
      "source": [
        "#build the single classfier individually and then ensemble them\n",
        "tree = DecisionTreeClassifier(criterion= 'entropy',\n",
        "                              random_state = 1,\n",
        "                              max_depth = None)\n",
        "bag_tree = BaggingClassifier(base_estimator=tree,\n",
        "                             n_estimators = 500,\n",
        "                             max_samples = 1.0,\n",
        "                            max_features = 1.0,\n",
        "                             bootstrap = True,\n",
        "                             bootstrap_features = False,\n",
        "                             n_jobs = 1,\n",
        "                             random_state =1)"
      ],
      "execution_count": 0,
      "outputs": []
    },
    {
      "cell_type": "code",
      "metadata": {
        "id": "Eo2NUQ3jSXLS",
        "colab_type": "code",
        "colab": {}
      },
      "source": [
        "#check the result by compare single tree and ensemble tree\n",
        "from sklearn.metrics import accuracy_score"
      ],
      "execution_count": 0,
      "outputs": []
    },
    {
      "cell_type": "code",
      "metadata": {
        "id": "kYay9NDdSm-R",
        "colab_type": "code",
        "outputId": "466058aa-7eee-49ea-ae2c-b7f28af301b9",
        "colab": {
          "base_uri": "https://localhost:8080/",
          "height": 34
        }
      },
      "source": [
        "#result on single unprune tree\n",
        "tree = tree.fit(X_train, y_train)\n",
        "y_pred = tree.predict(X_test)\n",
        "print('Decision tree accuracy score %.3f'%(accuracy_score(y_test, y_pred)))"
      ],
      "execution_count": 0,
      "outputs": [
        {
          "output_type": "stream",
          "text": [
            "Decision tree accuracy score 0.833\n"
          ],
          "name": "stdout"
        }
      ]
    },
    {
      "cell_type": "code",
      "metadata": {
        "id": "PByCY9yVTXJ2",
        "colab_type": "code",
        "outputId": "03ffdec4-5ae8-4a4c-b180-81bf17d41289",
        "colab": {
          "base_uri": "https://localhost:8080/",
          "height": 34
        }
      },
      "source": [
        "#result on bagging tree\n",
        "bag = bag_tree.fit(X_train, y_train)\n",
        "y_pred = bag.predict(X_test)\n",
        "print(\"Bagging tree accuracy score %.3f\" %(accuracy_score(y_test, y_pred)))"
      ],
      "execution_count": 0,
      "outputs": [
        {
          "output_type": "stream",
          "text": [
            "Bagging tree accuracy score 0.917\n"
          ],
          "name": "stdout"
        }
      ]
    },
    {
      "cell_type": "markdown",
      "metadata": {
        "id": "Q3c8ob9IT9LQ",
        "colab_type": "text"
      },
      "source": [
        "# Leveraging weak learner via adaptive boosting(xgboosting?)"
      ]
    },
    {
      "cell_type": "code",
      "metadata": {
        "id": "PX-gL3s6UGsg",
        "colab_type": "code",
        "colab": {}
      },
      "source": [
        "from sklearn.ensemble import AdaBoostClassifier"
      ],
      "execution_count": 0,
      "outputs": []
    },
    {
      "cell_type": "code",
      "metadata": {
        "id": "XQli0irar0d8",
        "colab_type": "code",
        "outputId": "9084d6e3-4c34-4f80-ab75-19cdc8e279cf",
        "colab": {
          "base_uri": "https://localhost:8080/",
          "height": 51
        }
      },
      "source": [
        "tree = DecisionTreeClassifier(criterion='entropy',\n",
        "                              random_state = 1,\n",
        "                              max_depth =1)\n",
        "ada = AdaBoostClassifier(base_estimator=tree,\n",
        "                         n_estimators = 500,\n",
        "                         learning_rate = 0.1,\n",
        "                         random_state = 1)\n",
        "\n",
        "tree = tree.fit(X_train, y_train)\n",
        "ada = ada.fit(X_train, y_train)\n",
        "\n",
        "\n",
        "y_test_pred_tree = tree.predict(X_test)\n",
        "\n",
        "y_test_pred_ada = ada.predict(X_test)\n",
        "\n",
        "print('Decision tree accuracy rate %.3f' %(accuracy_score(y_test, y_test_pred_tree)))\n",
        "\n",
        "print(\"Ada boosting accuracy rate %.3f\" %(accuracy_score(y_test, y_test_pred_ada)))"
      ],
      "execution_count": 0,
      "outputs": [
        {
          "output_type": "stream",
          "text": [
            "Decision tree accuracy rate 0.875\n",
            "Ada boosting accuracy rate 0.917\n"
          ],
          "name": "stdout"
        }
      ]
    }
  ]
}
