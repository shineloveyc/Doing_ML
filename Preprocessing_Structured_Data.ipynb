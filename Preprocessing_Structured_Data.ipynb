{
  "nbformat": 4,
  "nbformat_minor": 0,
  "metadata": {
    "colab": {
      "name": "Preprocessing Structured Data.ipynb",
      "provenance": [],
      "toc_visible": true,
      "authorship_tag": "ABX9TyMCD4NlLoKu5TjZ2EmVKj5t",
      "include_colab_link": true
    },
    "kernelspec": {
      "name": "python3",
      "display_name": "Python 3"
    }
  },
  "cells": [
    {
      "cell_type": "markdown",
      "metadata": {
        "id": "view-in-github",
        "colab_type": "text"
      },
      "source": [
        "<a href=\"https://colab.research.google.com/github/shineloveyc/Doing_ML/blob/master/Preprocessing_Structured_Data.ipynb\" target=\"_parent\"><img src=\"https://colab.research.google.com/assets/colab-badge.svg\" alt=\"Open In Colab\"/></a>"
      ]
    },
    {
      "cell_type": "markdown",
      "metadata": {
        "id": "ArJudLdjNsOK",
        "colab_type": "text"
      },
      "source": [
        "# Categorical variable encoding"
      ]
    },
    {
      "cell_type": "markdown",
      "metadata": {
        "id": "sBSt4nnQTQBt",
        "colab_type": "text"
      },
      "source": [
        "## Lable Encoding"
      ]
    },
    {
      "cell_type": "code",
      "metadata": {
        "id": "eYB48VpVih3W",
        "colab_type": "code",
        "colab": {}
      },
      "source": [
        "#convert Pandas cat data for sklearn\n",
        "from sklearn import preprocessing\n",
        "import pandas as pd\n",
        "import numpy as np"
      ],
      "execution_count": 0,
      "outputs": []
    },
    {
      "cell_type": "code",
      "metadata": {
        "id": "4iDKImDEjU25",
        "colab_type": "code",
        "outputId": "6c5a0e00-e277-41a1-a23b-8e38b16f179f",
        "colab": {
          "base_uri": "https://localhost:8080/",
          "height": 235
        }
      },
      "source": [
        "#create data fram\n",
        "raw_data = {'patient':[1,2,3,3,2,3],\n",
        "            'obs':[1,2,3,3,1,1],\n",
        "            'score':['strong','weak','strong','strong','weak','weak']}\n",
        "\n",
        "df = pd.DataFrame(raw_data, columns=['patient', 'obs', 'score'])\n",
        "df"
      ],
      "execution_count": 170,
      "outputs": [
        {
          "output_type": "execute_result",
          "data": {
            "text/html": [
              "<div>\n",
              "<style scoped>\n",
              "    .dataframe tbody tr th:only-of-type {\n",
              "        vertical-align: middle;\n",
              "    }\n",
              "\n",
              "    .dataframe tbody tr th {\n",
              "        vertical-align: top;\n",
              "    }\n",
              "\n",
              "    .dataframe thead th {\n",
              "        text-align: right;\n",
              "    }\n",
              "</style>\n",
              "<table border=\"1\" class=\"dataframe\">\n",
              "  <thead>\n",
              "    <tr style=\"text-align: right;\">\n",
              "      <th></th>\n",
              "      <th>patient</th>\n",
              "      <th>obs</th>\n",
              "      <th>score</th>\n",
              "    </tr>\n",
              "  </thead>\n",
              "  <tbody>\n",
              "    <tr>\n",
              "      <th>0</th>\n",
              "      <td>1</td>\n",
              "      <td>1</td>\n",
              "      <td>strong</td>\n",
              "    </tr>\n",
              "    <tr>\n",
              "      <th>1</th>\n",
              "      <td>2</td>\n",
              "      <td>2</td>\n",
              "      <td>weak</td>\n",
              "    </tr>\n",
              "    <tr>\n",
              "      <th>2</th>\n",
              "      <td>3</td>\n",
              "      <td>3</td>\n",
              "      <td>strong</td>\n",
              "    </tr>\n",
              "    <tr>\n",
              "      <th>3</th>\n",
              "      <td>3</td>\n",
              "      <td>3</td>\n",
              "      <td>strong</td>\n",
              "    </tr>\n",
              "    <tr>\n",
              "      <th>4</th>\n",
              "      <td>2</td>\n",
              "      <td>1</td>\n",
              "      <td>weak</td>\n",
              "    </tr>\n",
              "    <tr>\n",
              "      <th>5</th>\n",
              "      <td>3</td>\n",
              "      <td>1</td>\n",
              "      <td>weak</td>\n",
              "    </tr>\n",
              "  </tbody>\n",
              "</table>\n",
              "</div>"
            ],
            "text/plain": [
              "   patient  obs   score\n",
              "0        1    1  strong\n",
              "1        2    2    weak\n",
              "2        3    3  strong\n",
              "3        3    3  strong\n",
              "4        2    1    weak\n",
              "5        3    1    weak"
            ]
          },
          "metadata": {
            "tags": []
          },
          "execution_count": 170
        }
      ]
    },
    {
      "cell_type": "code",
      "metadata": {
        "id": "GJNUYaS3j6IO",
        "colab_type": "code",
        "outputId": "c269c3c4-d82d-43fa-d68e-2636126de5c3",
        "colab": {
          "base_uri": "https://localhost:8080/",
          "height": 235
        }
      },
      "source": [
        "#fit the label encoder\n",
        "from sklearn.preprocessing import LabelEncoder\n",
        "\n",
        "label_encode = LabelEncoder()\n",
        "\n",
        "df['score'] = label_encode.fit_transform(df['score'])\n",
        "\n",
        "df"
      ],
      "execution_count": 114,
      "outputs": [
        {
          "output_type": "execute_result",
          "data": {
            "text/html": [
              "<div>\n",
              "<style scoped>\n",
              "    .dataframe tbody tr th:only-of-type {\n",
              "        vertical-align: middle;\n",
              "    }\n",
              "\n",
              "    .dataframe tbody tr th {\n",
              "        vertical-align: top;\n",
              "    }\n",
              "\n",
              "    .dataframe thead th {\n",
              "        text-align: right;\n",
              "    }\n",
              "</style>\n",
              "<table border=\"1\" class=\"dataframe\">\n",
              "  <thead>\n",
              "    <tr style=\"text-align: right;\">\n",
              "      <th></th>\n",
              "      <th>patient</th>\n",
              "      <th>obs</th>\n",
              "      <th>score</th>\n",
              "    </tr>\n",
              "  </thead>\n",
              "  <tbody>\n",
              "    <tr>\n",
              "      <th>0</th>\n",
              "      <td>1</td>\n",
              "      <td>1</td>\n",
              "      <td>0</td>\n",
              "    </tr>\n",
              "    <tr>\n",
              "      <th>1</th>\n",
              "      <td>2</td>\n",
              "      <td>2</td>\n",
              "      <td>1</td>\n",
              "    </tr>\n",
              "    <tr>\n",
              "      <th>2</th>\n",
              "      <td>3</td>\n",
              "      <td>3</td>\n",
              "      <td>0</td>\n",
              "    </tr>\n",
              "    <tr>\n",
              "      <th>3</th>\n",
              "      <td>3</td>\n",
              "      <td>3</td>\n",
              "      <td>0</td>\n",
              "    </tr>\n",
              "    <tr>\n",
              "      <th>4</th>\n",
              "      <td>2</td>\n",
              "      <td>1</td>\n",
              "      <td>1</td>\n",
              "    </tr>\n",
              "    <tr>\n",
              "      <th>5</th>\n",
              "      <td>3</td>\n",
              "      <td>1</td>\n",
              "      <td>1</td>\n",
              "    </tr>\n",
              "  </tbody>\n",
              "</table>\n",
              "</div>"
            ],
            "text/plain": [
              "   patient  obs  score\n",
              "0        1    1      0\n",
              "1        2    2      1\n",
              "2        3    3      0\n",
              "3        3    3      0\n",
              "4        2    1      1\n",
              "5        3    1      1"
            ]
          },
          "metadata": {
            "tags": []
          },
          "execution_count": 114
        }
      ]
    },
    {
      "cell_type": "code",
      "metadata": {
        "id": "-WxXnDyKkzT3",
        "colab_type": "code",
        "outputId": "dd9717d8-9d91-4c25-d5c3-283929f5a159",
        "colab": {
          "base_uri": "https://localhost:8080/",
          "height": 34
        }
      },
      "source": [
        "#list classed\n",
        "list(label_encode.classes_)"
      ],
      "execution_count": 115,
      "outputs": [
        {
          "output_type": "execute_result",
          "data": {
            "text/plain": [
              "['strong', 'weak']"
            ]
          },
          "metadata": {
            "tags": []
          },
          "execution_count": 115
        }
      ]
    },
    {
      "cell_type": "code",
      "metadata": {
        "id": "4ExwNLIyk8fo",
        "colab_type": "code",
        "outputId": "608b4783-adf9-4a1a-da1c-9af17348090d",
        "colab": {
          "base_uri": "https://localhost:8080/",
          "height": 34
        }
      },
      "source": [
        "#check inverse of encoding\n",
        "list(label_encode.inverse_transform([1,0,1]))"
      ],
      "execution_count": 116,
      "outputs": [
        {
          "output_type": "execute_result",
          "data": {
            "text/plain": [
              "['weak', 'strong', 'weak']"
            ]
          },
          "metadata": {
            "tags": []
          },
          "execution_count": 116
        }
      ]
    },
    {
      "cell_type": "markdown",
      "metadata": {
        "id": "2EcbcXTSTUYD",
        "colab_type": "text"
      },
      "source": [
        "## One Hot Encoding"
      ]
    },
    {
      "cell_type": "code",
      "metadata": {
        "id": "ZX0C9ifaTXcy",
        "colab_type": "code",
        "colab": {
          "base_uri": "https://localhost:8080/",
          "height": 235
        },
        "outputId": "118b4b70-d96b-4528-dc0b-a024739d87a6"
      },
      "source": [
        "#using pd.get_dummies\n",
        "df_dummy = pd.get_dummies(df)\n",
        "df_dummy"
      ],
      "execution_count": 159,
      "outputs": [
        {
          "output_type": "execute_result",
          "data": {
            "text/html": [
              "<div>\n",
              "<style scoped>\n",
              "    .dataframe tbody tr th:only-of-type {\n",
              "        vertical-align: middle;\n",
              "    }\n",
              "\n",
              "    .dataframe tbody tr th {\n",
              "        vertical-align: top;\n",
              "    }\n",
              "\n",
              "    .dataframe thead th {\n",
              "        text-align: right;\n",
              "    }\n",
              "</style>\n",
              "<table border=\"1\" class=\"dataframe\">\n",
              "  <thead>\n",
              "    <tr style=\"text-align: right;\">\n",
              "      <th></th>\n",
              "      <th>patient</th>\n",
              "      <th>obs</th>\n",
              "      <th>score_strong</th>\n",
              "      <th>score_weak</th>\n",
              "    </tr>\n",
              "  </thead>\n",
              "  <tbody>\n",
              "    <tr>\n",
              "      <th>0</th>\n",
              "      <td>1</td>\n",
              "      <td>1</td>\n",
              "      <td>1</td>\n",
              "      <td>0</td>\n",
              "    </tr>\n",
              "    <tr>\n",
              "      <th>1</th>\n",
              "      <td>2</td>\n",
              "      <td>2</td>\n",
              "      <td>0</td>\n",
              "      <td>1</td>\n",
              "    </tr>\n",
              "    <tr>\n",
              "      <th>2</th>\n",
              "      <td>3</td>\n",
              "      <td>3</td>\n",
              "      <td>1</td>\n",
              "      <td>0</td>\n",
              "    </tr>\n",
              "    <tr>\n",
              "      <th>3</th>\n",
              "      <td>3</td>\n",
              "      <td>3</td>\n",
              "      <td>1</td>\n",
              "      <td>0</td>\n",
              "    </tr>\n",
              "    <tr>\n",
              "      <th>4</th>\n",
              "      <td>2</td>\n",
              "      <td>1</td>\n",
              "      <td>0</td>\n",
              "      <td>1</td>\n",
              "    </tr>\n",
              "    <tr>\n",
              "      <th>5</th>\n",
              "      <td>3</td>\n",
              "      <td>1</td>\n",
              "      <td>0</td>\n",
              "      <td>1</td>\n",
              "    </tr>\n",
              "  </tbody>\n",
              "</table>\n",
              "</div>"
            ],
            "text/plain": [
              "   patient  obs  score_strong  score_weak\n",
              "0        1    1             1           0\n",
              "1        2    2             0           1\n",
              "2        3    3             1           0\n",
              "3        3    3             1           0\n",
              "4        2    1             0           1\n",
              "5        3    1             0           1"
            ]
          },
          "metadata": {
            "tags": []
          },
          "execution_count": 159
        }
      ]
    },
    {
      "cell_type": "code",
      "metadata": {
        "id": "wMbwt2OPUMx7",
        "colab_type": "code",
        "colab": {
          "base_uri": "https://localhost:8080/",
          "height": 102
        },
        "outputId": "54231f7c-b53c-49a2-8812-4f38111e00bd"
      },
      "source": [
        "#using mutltlable encoder\n",
        "from sklearn.preprocessing import MultiLabelBinarizer\n",
        "\n",
        "# Create NumPy array\n",
        "y = [('Texas', 'Florida'), \n",
        "    ('California', 'Alabama'), \n",
        "    ('Texas', 'Florida'), \n",
        "    ('Delware', 'Florida'), \n",
        "    ('Texas', 'Alabama')]\n",
        "\n",
        "m_encode = MultiLabelBinarizer()\n",
        "\n",
        "m_encode.fit_transform(y)"
      ],
      "execution_count": 186,
      "outputs": [
        {
          "output_type": "execute_result",
          "data": {
            "text/plain": [
              "array([[0, 0, 0, 1, 1],\n",
              "       [1, 1, 0, 0, 0],\n",
              "       [0, 0, 0, 1, 1],\n",
              "       [0, 0, 1, 1, 0],\n",
              "       [1, 0, 0, 0, 1]])"
            ]
          },
          "metadata": {
            "tags": []
          },
          "execution_count": 186
        }
      ]
    },
    {
      "cell_type": "code",
      "metadata": {
        "id": "JaugzHeCVCsF",
        "colab_type": "code",
        "colab": {
          "base_uri": "https://localhost:8080/",
          "height": 51
        },
        "outputId": "c2a02967-399b-46b3-8441-a678431f89d4"
      },
      "source": [
        "m_encode.classes_"
      ],
      "execution_count": 175,
      "outputs": [
        {
          "output_type": "execute_result",
          "data": {
            "text/plain": [
              "array(['Alabama', 'California', 'Delware', 'Florida', 'Texas'],\n",
              "      dtype=object)"
            ]
          },
          "metadata": {
            "tags": []
          },
          "execution_count": 175
        }
      ]
    },
    {
      "cell_type": "code",
      "metadata": {
        "id": "CjMTBFiwVfvr",
        "colab_type": "code",
        "colab": {
          "base_uri": "https://localhost:8080/",
          "height": 51
        },
        "outputId": "f487a248-0ac7-4849-aa3e-7e8eb58169e2"
      },
      "source": [
        "#One Hot Encoding\n",
        "from sklearn.preprocessing import OneHotEncoder\n",
        "\n",
        "one_hot = OneHotEncoder()\n",
        "\n",
        "one_hot.fit_transform(y)\n",
        "\n",
        "one_hot.categories_"
      ],
      "execution_count": 181,
      "outputs": [
        {
          "output_type": "execute_result",
          "data": {
            "text/plain": [
              "[array(['California', 'Delware', 'Texas'], dtype=object),\n",
              " array(['Alabama', 'Florida'], dtype=object)]"
            ]
          },
          "metadata": {
            "tags": []
          },
          "execution_count": 181
        }
      ]
    },
    {
      "cell_type": "markdown",
      "metadata": {
        "id": "05tHV9AmN21r",
        "colab_type": "text"
      },
      "source": [
        "# Dealing Missing Value"
      ]
    },
    {
      "cell_type": "code",
      "metadata": {
        "id": "eez59H3jlJX8",
        "colab_type": "code",
        "colab": {}
      },
      "source": [
        "#delete obs with missing value\n",
        "#create a feature matrix\n",
        "X = np.array([[1.1, 11.1],\n",
        "              [2.2, 22.2],\n",
        "              [3.3, 33.3],\n",
        "              [4.4, 44.4],\n",
        "              [np.nan, 55]])"
      ],
      "execution_count": 0,
      "outputs": []
    },
    {
      "cell_type": "code",
      "metadata": {
        "id": "upEWCSLyljj0",
        "colab_type": "code",
        "outputId": "4031e622-3251-4c3b-e5bc-1e878fbd0118",
        "colab": {
          "base_uri": "https://localhost:8080/",
          "height": 85
        }
      },
      "source": [
        "#delet obs with missing value\n",
        "X[~np.isnan(X).any(axis = 1)]"
      ],
      "execution_count": 118,
      "outputs": [
        {
          "output_type": "execute_result",
          "data": {
            "text/plain": [
              "array([[ 1.1, 11.1],\n",
              "       [ 2.2, 22.2],\n",
              "       [ 3.3, 33.3],\n",
              "       [ 4.4, 44.4]])"
            ]
          },
          "metadata": {
            "tags": []
          },
          "execution_count": 118
        }
      ]
    },
    {
      "cell_type": "code",
      "metadata": {
        "id": "e9rPhlW9ohbE",
        "colab_type": "code",
        "outputId": "40a2e509-4294-431c-81ad-feda1e76d452",
        "colab": {
          "base_uri": "https://localhost:8080/",
          "height": 51
        }
      },
      "source": [
        "#delete missing values\n",
        "X= np.array([[1,2],\n",
        "             [6,3],\n",
        "             [np.nan, 5]])\n",
        "X[~np.isnan(X).any(axis = 1)]"
      ],
      "execution_count": 119,
      "outputs": [
        {
          "output_type": "execute_result",
          "data": {
            "text/plain": [
              "array([[1., 2.],\n",
              "       [6., 3.]])"
            ]
          },
          "metadata": {
            "tags": []
          },
          "execution_count": 119
        }
      ]
    },
    {
      "cell_type": "code",
      "metadata": {
        "id": "XAIQWN_Lo6I5",
        "colab_type": "code",
        "outputId": "91835aaa-1ec9-4fc3-91d6-450cfcc3d24a",
        "colab": {
          "base_uri": "https://localhost:8080/",
          "height": 111
        }
      },
      "source": [
        "#use pandas to drop missing value\n",
        "df = pd.DataFrame(X, columns=['a','b'])\n",
        "\n",
        "df.dropna()"
      ],
      "execution_count": 120,
      "outputs": [
        {
          "output_type": "execute_result",
          "data": {
            "text/html": [
              "<div>\n",
              "<style scoped>\n",
              "    .dataframe tbody tr th:only-of-type {\n",
              "        vertical-align: middle;\n",
              "    }\n",
              "\n",
              "    .dataframe tbody tr th {\n",
              "        vertical-align: top;\n",
              "    }\n",
              "\n",
              "    .dataframe thead th {\n",
              "        text-align: right;\n",
              "    }\n",
              "</style>\n",
              "<table border=\"1\" class=\"dataframe\">\n",
              "  <thead>\n",
              "    <tr style=\"text-align: right;\">\n",
              "      <th></th>\n",
              "      <th>a</th>\n",
              "      <th>b</th>\n",
              "    </tr>\n",
              "  </thead>\n",
              "  <tbody>\n",
              "    <tr>\n",
              "      <th>0</th>\n",
              "      <td>1.0</td>\n",
              "      <td>2.0</td>\n",
              "    </tr>\n",
              "    <tr>\n",
              "      <th>1</th>\n",
              "      <td>6.0</td>\n",
              "      <td>3.0</td>\n",
              "    </tr>\n",
              "  </tbody>\n",
              "</table>\n",
              "</div>"
            ],
            "text/plain": [
              "     a    b\n",
              "0  1.0  2.0\n",
              "1  6.0  3.0"
            ]
          },
          "metadata": {
            "tags": []
          },
          "execution_count": 120
        }
      ]
    },
    {
      "cell_type": "code",
      "metadata": {
        "id": "NK8cV6mrKOGA",
        "colab_type": "code",
        "outputId": "0bf87795-dca5-4ac1-c07c-2d31c01a64d3",
        "colab": {
          "base_uri": "https://localhost:8080/",
          "height": 142
        }
      },
      "source": [
        "#impute missing values\n",
        "X_df = pd.DataFrame(X, columns=['col_A', 'col_B'])\n",
        "X_df"
      ],
      "execution_count": 121,
      "outputs": [
        {
          "output_type": "execute_result",
          "data": {
            "text/html": [
              "<div>\n",
              "<style scoped>\n",
              "    .dataframe tbody tr th:only-of-type {\n",
              "        vertical-align: middle;\n",
              "    }\n",
              "\n",
              "    .dataframe tbody tr th {\n",
              "        vertical-align: top;\n",
              "    }\n",
              "\n",
              "    .dataframe thead th {\n",
              "        text-align: right;\n",
              "    }\n",
              "</style>\n",
              "<table border=\"1\" class=\"dataframe\">\n",
              "  <thead>\n",
              "    <tr style=\"text-align: right;\">\n",
              "      <th></th>\n",
              "      <th>col_A</th>\n",
              "      <th>col_B</th>\n",
              "    </tr>\n",
              "  </thead>\n",
              "  <tbody>\n",
              "    <tr>\n",
              "      <th>0</th>\n",
              "      <td>1.0</td>\n",
              "      <td>2.0</td>\n",
              "    </tr>\n",
              "    <tr>\n",
              "      <th>1</th>\n",
              "      <td>6.0</td>\n",
              "      <td>3.0</td>\n",
              "    </tr>\n",
              "    <tr>\n",
              "      <th>2</th>\n",
              "      <td>NaN</td>\n",
              "      <td>5.0</td>\n",
              "    </tr>\n",
              "  </tbody>\n",
              "</table>\n",
              "</div>"
            ],
            "text/plain": [
              "   col_A  col_B\n",
              "0    1.0    2.0\n",
              "1    6.0    3.0\n",
              "2    NaN    5.0"
            ]
          },
          "metadata": {
            "tags": []
          },
          "execution_count": 121
        }
      ]
    },
    {
      "cell_type": "code",
      "metadata": {
        "id": "sVhhWjrcKh37",
        "colab_type": "code",
        "outputId": "c6e7bf40-b554-4b8a-a8dd-e2f9a29980a8",
        "colab": {
          "base_uri": "https://localhost:8080/",
          "height": 68
        }
      },
      "source": [
        "from sklearn.impute import SimpleImputer\n",
        "\n",
        "#fit imputer, replace the value to column mean\n",
        "mean_imputer = SimpleImputer(missing_values=np.nan, strategy='mean')\n",
        "\n",
        "imputer_df = mean_imputer.fit_transform(X_df)\n",
        "imputer_df"
      ],
      "execution_count": 122,
      "outputs": [
        {
          "output_type": "execute_result",
          "data": {
            "text/plain": [
              "array([[1. , 2. ],\n",
              "       [6. , 3. ],\n",
              "       [3.5, 5. ]])"
            ]
          },
          "metadata": {
            "tags": []
          },
          "execution_count": 122
        }
      ]
    },
    {
      "cell_type": "code",
      "metadata": {
        "id": "FUwWZeFNL58j",
        "colab_type": "code",
        "outputId": "3d74a8b3-c9c9-48be-c4d1-9709df8178bb",
        "colab": {
          "base_uri": "https://localhost:8080/",
          "height": 235
        }
      },
      "source": [
        "#impute class labels\n",
        "#create data fram\n",
        "df_data = {'patient':[1,2,3,3,2,3],\n",
        "            'obs':[1,2,3,3,1,1],\n",
        "            'score':[np.nan,'weak','strong','strong','weak','weak']}\n",
        "\n",
        "df = pd.DataFrame(df_data, columns=['patient', 'obs', 'score'])\n",
        "df"
      ],
      "execution_count": 123,
      "outputs": [
        {
          "output_type": "execute_result",
          "data": {
            "text/html": [
              "<div>\n",
              "<style scoped>\n",
              "    .dataframe tbody tr th:only-of-type {\n",
              "        vertical-align: middle;\n",
              "    }\n",
              "\n",
              "    .dataframe tbody tr th {\n",
              "        vertical-align: top;\n",
              "    }\n",
              "\n",
              "    .dataframe thead th {\n",
              "        text-align: right;\n",
              "    }\n",
              "</style>\n",
              "<table border=\"1\" class=\"dataframe\">\n",
              "  <thead>\n",
              "    <tr style=\"text-align: right;\">\n",
              "      <th></th>\n",
              "      <th>patient</th>\n",
              "      <th>obs</th>\n",
              "      <th>score</th>\n",
              "    </tr>\n",
              "  </thead>\n",
              "  <tbody>\n",
              "    <tr>\n",
              "      <th>0</th>\n",
              "      <td>1</td>\n",
              "      <td>1</td>\n",
              "      <td>NaN</td>\n",
              "    </tr>\n",
              "    <tr>\n",
              "      <th>1</th>\n",
              "      <td>2</td>\n",
              "      <td>2</td>\n",
              "      <td>weak</td>\n",
              "    </tr>\n",
              "    <tr>\n",
              "      <th>2</th>\n",
              "      <td>3</td>\n",
              "      <td>3</td>\n",
              "      <td>strong</td>\n",
              "    </tr>\n",
              "    <tr>\n",
              "      <th>3</th>\n",
              "      <td>3</td>\n",
              "      <td>3</td>\n",
              "      <td>strong</td>\n",
              "    </tr>\n",
              "    <tr>\n",
              "      <th>4</th>\n",
              "      <td>2</td>\n",
              "      <td>1</td>\n",
              "      <td>weak</td>\n",
              "    </tr>\n",
              "    <tr>\n",
              "      <th>5</th>\n",
              "      <td>3</td>\n",
              "      <td>1</td>\n",
              "      <td>weak</td>\n",
              "    </tr>\n",
              "  </tbody>\n",
              "</table>\n",
              "</div>"
            ],
            "text/plain": [
              "   patient  obs   score\n",
              "0        1    1     NaN\n",
              "1        2    2    weak\n",
              "2        3    3  strong\n",
              "3        3    3  strong\n",
              "4        2    1    weak\n",
              "5        3    1    weak"
            ]
          },
          "metadata": {
            "tags": []
          },
          "execution_count": 123
        }
      ]
    },
    {
      "cell_type": "code",
      "metadata": {
        "id": "1kGDJKecMpPY",
        "colab_type": "code",
        "outputId": "15c13b69-75bf-4d3a-c0a2-a27af08d3837",
        "colab": {
          "base_uri": "https://localhost:8080/",
          "height": 119
        }
      },
      "source": [
        "freq_impute = SimpleImputer(missing_values=np.nan, strategy='most_frequent')\n",
        "\n",
        "df_new = freq_impute.fit_transform(df)\n",
        "df_new"
      ],
      "execution_count": 124,
      "outputs": [
        {
          "output_type": "execute_result",
          "data": {
            "text/plain": [
              "array([[1, 1, 'weak'],\n",
              "       [2, 2, 'weak'],\n",
              "       [3, 3, 'strong'],\n",
              "       [3, 3, 'strong'],\n",
              "       [2, 1, 'weak'],\n",
              "       [3, 1, 'weak']], dtype=object)"
            ]
          },
          "metadata": {
            "tags": []
          },
          "execution_count": 124
        }
      ]
    },
    {
      "cell_type": "code",
      "metadata": {
        "id": "eJZRsFAWNgPY",
        "colab_type": "code",
        "colab": {
          "base_uri": "https://localhost:8080/",
          "height": 119
        },
        "outputId": "e85e5030-355a-4915-ff12-c1046a974cf3"
      },
      "source": [
        "#impute with KNN\n",
        "#create trainning data\n",
        "X = np.array([[0, 2.10, 1.45], \n",
        "              [1, 1.18, 1.33], \n",
        "              [0, 1.22, 1.27],\n",
        "              [1, -0.21, -1.19]])\n",
        "#creat feature matrix with missing valuee\n",
        "X_with_nan = np.array([[np.nan, 0.87, 1.31],\n",
        "                       [np.nan, -0.67, -0.22]])\n",
        "\n",
        "from sklearn.neighbors import KNeighborsClassifier\n",
        "\n",
        "knn = KNeighborsClassifier(3, weights='distance')\n",
        "\n",
        "model = knn.fit(X[:,1:], X[:, 0])\n",
        "\n",
        "imputed_values = model.predict(X_with_nan[:,1:])\n",
        "\n",
        "X_with_imputed = np.hstack((imputed_values.reshape(-1, 1), X_with_nan[:, 1:]))\n",
        "\n",
        "X_with_imputed \n",
        "\n",
        "#join two dfs\n",
        "np.vstack((X_with_imputed,X))"
      ],
      "execution_count": 149,
      "outputs": [
        {
          "output_type": "execute_result",
          "data": {
            "text/plain": [
              "array([[ 0.  ,  0.87,  1.31],\n",
              "       [ 1.  , -0.67, -0.22],\n",
              "       [ 0.  ,  2.1 ,  1.45],\n",
              "       [ 1.  ,  1.18,  1.33],\n",
              "       [ 0.  ,  1.22,  1.27],\n",
              "       [ 1.  , -0.21, -1.19]])"
            ]
          },
          "metadata": {
            "tags": []
          },
          "execution_count": 149
        }
      ]
    },
    {
      "cell_type": "markdown",
      "metadata": {
        "id": "V9sEoTkpN-fB",
        "colab_type": "text"
      },
      "source": [
        "# Dealing Outliers"
      ]
    },
    {
      "cell_type": "code",
      "metadata": {
        "id": "vgJIrEIipN_T",
        "colab_type": "code",
        "colab": {}
      },
      "source": [
        "#delete outliers\n",
        "from sklearn.covariance import EllipticEnvelope\n",
        "from sklearn.datasets import make_blobs"
      ],
      "execution_count": 0,
      "outputs": []
    },
    {
      "cell_type": "code",
      "metadata": {
        "id": "0uXJltTwpaFM",
        "colab_type": "code",
        "outputId": "cb3a1413-513d-41e9-e937-80ce2d4a8e56",
        "colab": {
          "base_uri": "https://localhost:8080/",
          "height": 187
        }
      },
      "source": [
        "#create simulated data\n",
        "X, _ = make_blobs(n_samples=10, \n",
        "                  n_features = 2,\n",
        "                  centers =1 ,\n",
        "                  random_state = 1)\n",
        "\n",
        "#replace the first obs with extreme outliers\n",
        "X[0, 0] = 10000\n",
        "X[0, 1] =10000\n",
        "X"
      ],
      "execution_count": 126,
      "outputs": [
        {
          "output_type": "execute_result",
          "data": {
            "text/plain": [
              "array([[ 1.00000000e+04,  1.00000000e+04],\n",
              "       [-2.76017908e+00,  5.55121358e+00],\n",
              "       [-1.61734616e+00,  4.98930508e+00],\n",
              "       [-5.25790464e-01,  3.30659860e+00],\n",
              "       [ 8.52518583e-02,  3.64528297e+00],\n",
              "       [-7.94152277e-01,  2.10495117e+00],\n",
              "       [-1.34052081e+00,  4.15711949e+00],\n",
              "       [-1.98197711e+00,  4.02243551e+00],\n",
              "       [-2.18773166e+00,  3.33352125e+00],\n",
              "       [-1.97451969e-01,  2.34634916e+00]])"
            ]
          },
          "metadata": {
            "tags": []
          },
          "execution_count": 126
        }
      ]
    },
    {
      "cell_type": "markdown",
      "metadata": {
        "id": "x5jvYnqhp0le",
        "colab_type": "text"
      },
      "source": [
        " EllipticEnvelope assumes the data is normally distributed and based on that assumption “draws” an ellipse around the data, classifying any observation inside the ellipse as an inlier (labeled as 1) and any observation outside the ellipse as an outlier (labeled as -1). A major limitation of this approach is the need to specify a contamination parameter which is the proportion of observations that are outliers, a value that we don’t know.\n",
        "\n"
      ]
    },
    {
      "cell_type": "code",
      "metadata": {
        "id": "wQqiOPCwpytl",
        "colab_type": "code",
        "outputId": "c1bf4c50-1a00-44f3-f4af-77a1ce22daa2",
        "colab": {
          "base_uri": "https://localhost:8080/",
          "height": 34
        }
      },
      "source": [
        "#create detector\n",
        "outlier_dector = EllipticEnvelope(contamination=0.1)\n",
        "\n",
        "#fit the detector\n",
        "outlier_dector.fit(X)\n",
        "\n",
        "outlier_dector.predict(X)"
      ],
      "execution_count": 127,
      "outputs": [
        {
          "output_type": "execute_result",
          "data": {
            "text/plain": [
              "array([-1,  1,  1,  1,  1,  1,  1,  1,  1,  1])"
            ]
          },
          "metadata": {
            "tags": []
          },
          "execution_count": 127
        }
      ]
    },
    {
      "cell_type": "code",
      "metadata": {
        "id": "zIs-BhjHFADC",
        "colab_type": "code",
        "colab": {}
      },
      "source": [
        "#Handeling Outliers\n",
        "#create data frame\n",
        "house = pd.DataFrame()\n",
        "\n",
        "house['Price'] = [4000, 5000, 8000, 400000]\n",
        "house['Bathrooms'] = [2.5, 1, 3, 116]\n",
        "house['Sqrt_Feet'] = ['1500', '2000', '2000', '48000']"
      ],
      "execution_count": 0,
      "outputs": []
    },
    {
      "cell_type": "code",
      "metadata": {
        "id": "R51wYZN4Fjuu",
        "colab_type": "code",
        "outputId": "3811b646-9667-4978-aac5-c870fc71ad8d",
        "colab": {
          "base_uri": "https://localhost:8080/",
          "height": 142
        }
      },
      "source": [
        "#option one, drop outlier\n",
        "house.describe()\n",
        "\n",
        "#after observe the outlier, drop obs\n",
        "house[house['Bathrooms']<20]"
      ],
      "execution_count": 129,
      "outputs": [
        {
          "output_type": "execute_result",
          "data": {
            "text/html": [
              "<div>\n",
              "<style scoped>\n",
              "    .dataframe tbody tr th:only-of-type {\n",
              "        vertical-align: middle;\n",
              "    }\n",
              "\n",
              "    .dataframe tbody tr th {\n",
              "        vertical-align: top;\n",
              "    }\n",
              "\n",
              "    .dataframe thead th {\n",
              "        text-align: right;\n",
              "    }\n",
              "</style>\n",
              "<table border=\"1\" class=\"dataframe\">\n",
              "  <thead>\n",
              "    <tr style=\"text-align: right;\">\n",
              "      <th></th>\n",
              "      <th>Price</th>\n",
              "      <th>Bathrooms</th>\n",
              "      <th>Sqrt_Feet</th>\n",
              "    </tr>\n",
              "  </thead>\n",
              "  <tbody>\n",
              "    <tr>\n",
              "      <th>0</th>\n",
              "      <td>4000</td>\n",
              "      <td>2.5</td>\n",
              "      <td>1500</td>\n",
              "    </tr>\n",
              "    <tr>\n",
              "      <th>1</th>\n",
              "      <td>5000</td>\n",
              "      <td>1.0</td>\n",
              "      <td>2000</td>\n",
              "    </tr>\n",
              "    <tr>\n",
              "      <th>2</th>\n",
              "      <td>8000</td>\n",
              "      <td>3.0</td>\n",
              "      <td>2000</td>\n",
              "    </tr>\n",
              "  </tbody>\n",
              "</table>\n",
              "</div>"
            ],
            "text/plain": [
              "   Price  Bathrooms Sqrt_Feet\n",
              "0   4000        2.5      1500\n",
              "1   5000        1.0      2000\n",
              "2   8000        3.0      2000"
            ]
          },
          "metadata": {
            "tags": []
          },
          "execution_count": 129
        }
      ]
    },
    {
      "cell_type": "code",
      "metadata": {
        "id": "mYkZhCa7Idgv",
        "colab_type": "code",
        "outputId": "08ce4e2d-2596-4f00-bf0b-d093da8a63b1",
        "colab": {
          "base_uri": "https://localhost:8080/",
          "height": 173
        }
      },
      "source": [
        "#option two, mark outlier\n",
        "house['outlier'] = np.where(house['Bathrooms']<20, 0, 1)\n",
        "house"
      ],
      "execution_count": 130,
      "outputs": [
        {
          "output_type": "execute_result",
          "data": {
            "text/html": [
              "<div>\n",
              "<style scoped>\n",
              "    .dataframe tbody tr th:only-of-type {\n",
              "        vertical-align: middle;\n",
              "    }\n",
              "\n",
              "    .dataframe tbody tr th {\n",
              "        vertical-align: top;\n",
              "    }\n",
              "\n",
              "    .dataframe thead th {\n",
              "        text-align: right;\n",
              "    }\n",
              "</style>\n",
              "<table border=\"1\" class=\"dataframe\">\n",
              "  <thead>\n",
              "    <tr style=\"text-align: right;\">\n",
              "      <th></th>\n",
              "      <th>Price</th>\n",
              "      <th>Bathrooms</th>\n",
              "      <th>Sqrt_Feet</th>\n",
              "      <th>outlier</th>\n",
              "    </tr>\n",
              "  </thead>\n",
              "  <tbody>\n",
              "    <tr>\n",
              "      <th>0</th>\n",
              "      <td>4000</td>\n",
              "      <td>2.5</td>\n",
              "      <td>1500</td>\n",
              "      <td>0</td>\n",
              "    </tr>\n",
              "    <tr>\n",
              "      <th>1</th>\n",
              "      <td>5000</td>\n",
              "      <td>1.0</td>\n",
              "      <td>2000</td>\n",
              "      <td>0</td>\n",
              "    </tr>\n",
              "    <tr>\n",
              "      <th>2</th>\n",
              "      <td>8000</td>\n",
              "      <td>3.0</td>\n",
              "      <td>2000</td>\n",
              "      <td>0</td>\n",
              "    </tr>\n",
              "    <tr>\n",
              "      <th>3</th>\n",
              "      <td>400000</td>\n",
              "      <td>116.0</td>\n",
              "      <td>48000</td>\n",
              "      <td>1</td>\n",
              "    </tr>\n",
              "  </tbody>\n",
              "</table>\n",
              "</div>"
            ],
            "text/plain": [
              "    Price  Bathrooms Sqrt_Feet  outlier\n",
              "0    4000        2.5      1500        0\n",
              "1    5000        1.0      2000        0\n",
              "2    8000        3.0      2000        0\n",
              "3  400000      116.0     48000        1"
            ]
          },
          "metadata": {
            "tags": []
          },
          "execution_count": 130
        }
      ]
    },
    {
      "cell_type": "code",
      "metadata": {
        "id": "YHoChcb7Ju6e",
        "colab_type": "code",
        "outputId": "7e5ca538-bce8-4d2b-dea5-33fdf493f9a2",
        "colab": {
          "base_uri": "https://localhost:8080/",
          "height": 173
        }
      },
      "source": [
        "#option 3, rescale\n",
        "house['log of price'] = [np.log(x) for x in house['Price']]\n",
        "house"
      ],
      "execution_count": 131,
      "outputs": [
        {
          "output_type": "execute_result",
          "data": {
            "text/html": [
              "<div>\n",
              "<style scoped>\n",
              "    .dataframe tbody tr th:only-of-type {\n",
              "        vertical-align: middle;\n",
              "    }\n",
              "\n",
              "    .dataframe tbody tr th {\n",
              "        vertical-align: top;\n",
              "    }\n",
              "\n",
              "    .dataframe thead th {\n",
              "        text-align: right;\n",
              "    }\n",
              "</style>\n",
              "<table border=\"1\" class=\"dataframe\">\n",
              "  <thead>\n",
              "    <tr style=\"text-align: right;\">\n",
              "      <th></th>\n",
              "      <th>Price</th>\n",
              "      <th>Bathrooms</th>\n",
              "      <th>Sqrt_Feet</th>\n",
              "      <th>outlier</th>\n",
              "      <th>log of price</th>\n",
              "    </tr>\n",
              "  </thead>\n",
              "  <tbody>\n",
              "    <tr>\n",
              "      <th>0</th>\n",
              "      <td>4000</td>\n",
              "      <td>2.5</td>\n",
              "      <td>1500</td>\n",
              "      <td>0</td>\n",
              "      <td>8.294050</td>\n",
              "    </tr>\n",
              "    <tr>\n",
              "      <th>1</th>\n",
              "      <td>5000</td>\n",
              "      <td>1.0</td>\n",
              "      <td>2000</td>\n",
              "      <td>0</td>\n",
              "      <td>8.517193</td>\n",
              "    </tr>\n",
              "    <tr>\n",
              "      <th>2</th>\n",
              "      <td>8000</td>\n",
              "      <td>3.0</td>\n",
              "      <td>2000</td>\n",
              "      <td>0</td>\n",
              "      <td>8.987197</td>\n",
              "    </tr>\n",
              "    <tr>\n",
              "      <th>3</th>\n",
              "      <td>400000</td>\n",
              "      <td>116.0</td>\n",
              "      <td>48000</td>\n",
              "      <td>1</td>\n",
              "      <td>12.899220</td>\n",
              "    </tr>\n",
              "  </tbody>\n",
              "</table>\n",
              "</div>"
            ],
            "text/plain": [
              "    Price  Bathrooms Sqrt_Feet  outlier  log of price\n",
              "0    4000        2.5      1500        0      8.294050\n",
              "1    5000        1.0      2000        0      8.517193\n",
              "2    8000        3.0      2000        0      8.987197\n",
              "3  400000      116.0     48000        1     12.899220"
            ]
          },
          "metadata": {
            "tags": []
          },
          "execution_count": 131
        }
      ]
    },
    {
      "cell_type": "markdown",
      "metadata": {
        "id": "itzlP_8gOa3Z",
        "colab_type": "text"
      },
      "source": [
        "# Discretize Features"
      ]
    },
    {
      "cell_type": "code",
      "metadata": {
        "id": "KAiBnaBLquUL",
        "colab_type": "code",
        "colab": {}
      },
      "source": [
        "#Discretize Features\n",
        "from sklearn.preprocessing import Binarizer\n",
        "\n",
        "#create data\n",
        "age = np.array([[13],\n",
        "                [44],\n",
        "                [55],\n",
        "                [20],\n",
        "               [90]])"
      ],
      "execution_count": 0,
      "outputs": []
    },
    {
      "cell_type": "code",
      "metadata": {
        "id": "cSuTdATyrE3v",
        "colab_type": "code",
        "outputId": "4bc68fb3-8be2-429f-96fd-933436d4cc92",
        "colab": {
          "base_uri": "https://localhost:8080/",
          "height": 102
        }
      },
      "source": [
        "#option one, binarize feature, use 18 as watershed\n",
        "binarizer = Binarizer(18)\n",
        "\n",
        "binarizer.fit_transform(age)"
      ],
      "execution_count": 133,
      "outputs": [
        {
          "output_type": "execute_result",
          "data": {
            "text/plain": [
              "array([[0],\n",
              "       [1],\n",
              "       [1],\n",
              "       [1],\n",
              "       [1]])"
            ]
          },
          "metadata": {
            "tags": []
          },
          "execution_count": 133
        }
      ]
    },
    {
      "cell_type": "code",
      "metadata": {
        "id": "BuWqCesVrZ8W",
        "colab_type": "code",
        "outputId": "5ecb3fd5-fb83-40db-9846-913a500e99c8",
        "colab": {
          "base_uri": "https://localhost:8080/",
          "height": 102
        }
      },
      "source": [
        "#option 2, break up feature into bins\n",
        "np.digitize(age, bins = [20, 30, 64])"
      ],
      "execution_count": 134,
      "outputs": [
        {
          "output_type": "execute_result",
          "data": {
            "text/plain": [
              "array([[0],\n",
              "       [2],\n",
              "       [2],\n",
              "       [1],\n",
              "       [3]])"
            ]
          },
          "metadata": {
            "tags": []
          },
          "execution_count": 134
        }
      ]
    },
    {
      "cell_type": "code",
      "metadata": {
        "id": "n2Nc9JeDrpcP",
        "colab_type": "code",
        "outputId": "85e20365-b571-4ced-a7e9-90c7adea8ef0",
        "colab": {
          "base_uri": "https://localhost:8080/",
          "height": 173
        }
      },
      "source": [
        "#encoding Ordinal categorical features\n",
        "df = pd.DataFrame({'Score':['Low',\n",
        "                            'High',\n",
        "                            'Low',\n",
        "                            'Medium']})\n",
        "df"
      ],
      "execution_count": 135,
      "outputs": [
        {
          "output_type": "execute_result",
          "data": {
            "text/html": [
              "<div>\n",
              "<style scoped>\n",
              "    .dataframe tbody tr th:only-of-type {\n",
              "        vertical-align: middle;\n",
              "    }\n",
              "\n",
              "    .dataframe tbody tr th {\n",
              "        vertical-align: top;\n",
              "    }\n",
              "\n",
              "    .dataframe thead th {\n",
              "        text-align: right;\n",
              "    }\n",
              "</style>\n",
              "<table border=\"1\" class=\"dataframe\">\n",
              "  <thead>\n",
              "    <tr style=\"text-align: right;\">\n",
              "      <th></th>\n",
              "      <th>Score</th>\n",
              "    </tr>\n",
              "  </thead>\n",
              "  <tbody>\n",
              "    <tr>\n",
              "      <th>0</th>\n",
              "      <td>Low</td>\n",
              "    </tr>\n",
              "    <tr>\n",
              "      <th>1</th>\n",
              "      <td>High</td>\n",
              "    </tr>\n",
              "    <tr>\n",
              "      <th>2</th>\n",
              "      <td>Low</td>\n",
              "    </tr>\n",
              "    <tr>\n",
              "      <th>3</th>\n",
              "      <td>Medium</td>\n",
              "    </tr>\n",
              "  </tbody>\n",
              "</table>\n",
              "</div>"
            ],
            "text/plain": [
              "    Score\n",
              "0     Low\n",
              "1    High\n",
              "2     Low\n",
              "3  Medium"
            ]
          },
          "metadata": {
            "tags": []
          },
          "execution_count": 135
        }
      ]
    },
    {
      "cell_type": "code",
      "metadata": {
        "id": "jvThq4SNr8mt",
        "colab_type": "code",
        "outputId": "ae8667f6-8030-4b3d-8cab-adc3cf8311e4",
        "colab": {
          "base_uri": "https://localhost:8080/",
          "height": 173
        }
      },
      "source": [
        "#create a map\n",
        "scale_map = {'Low': 0,\n",
        "             'Medium':1,\n",
        "             'High':2}\n",
        "\n",
        "#map scale to features\n",
        "df['Score'] = df['Score'].replace(scale_map)\n",
        "df"
      ],
      "execution_count": 136,
      "outputs": [
        {
          "output_type": "execute_result",
          "data": {
            "text/html": [
              "<div>\n",
              "<style scoped>\n",
              "    .dataframe tbody tr th:only-of-type {\n",
              "        vertical-align: middle;\n",
              "    }\n",
              "\n",
              "    .dataframe tbody tr th {\n",
              "        vertical-align: top;\n",
              "    }\n",
              "\n",
              "    .dataframe thead th {\n",
              "        text-align: right;\n",
              "    }\n",
              "</style>\n",
              "<table border=\"1\" class=\"dataframe\">\n",
              "  <thead>\n",
              "    <tr style=\"text-align: right;\">\n",
              "      <th></th>\n",
              "      <th>Score</th>\n",
              "    </tr>\n",
              "  </thead>\n",
              "  <tbody>\n",
              "    <tr>\n",
              "      <th>0</th>\n",
              "      <td>0</td>\n",
              "    </tr>\n",
              "    <tr>\n",
              "      <th>1</th>\n",
              "      <td>2</td>\n",
              "    </tr>\n",
              "    <tr>\n",
              "      <th>2</th>\n",
              "      <td>0</td>\n",
              "    </tr>\n",
              "    <tr>\n",
              "      <th>3</th>\n",
              "      <td>1</td>\n",
              "    </tr>\n",
              "  </tbody>\n",
              "</table>\n",
              "</div>"
            ],
            "text/plain": [
              "   Score\n",
              "0      0\n",
              "1      2\n",
              "2      0\n",
              "3      1"
            ]
          },
          "metadata": {
            "tags": []
          },
          "execution_count": 136
        }
      ]
    },
    {
      "cell_type": "markdown",
      "metadata": {
        "id": "vi0zV5tbs03L",
        "colab_type": "text"
      },
      "source": [
        "In downsampling, we randomly sample without replacement from the majority class (i.e. the class with more observations) to create a new subset of observation equal in size to the minority class"
      ]
    },
    {
      "cell_type": "markdown",
      "metadata": {
        "id": "JA-Zwn6pOR78",
        "colab_type": "text"
      },
      "source": [
        "# Dealing Imbalanced Data"
      ]
    },
    {
      "cell_type": "code",
      "metadata": {
        "id": "miT724uQsp80",
        "colab_type": "code",
        "colab": {}
      },
      "source": [
        "#Handel imbalance data\n",
        "from sklearn.datasets import load_iris"
      ],
      "execution_count": 0,
      "outputs": []
    },
    {
      "cell_type": "code",
      "metadata": {
        "id": "cvvjkynEs-p6",
        "colab_type": "code",
        "colab": {}
      },
      "source": [
        "iris = load_iris()\n",
        "\n",
        "X = iris.data\n",
        "\n",
        "y= iris.target"
      ],
      "execution_count": 0,
      "outputs": []
    },
    {
      "cell_type": "code",
      "metadata": {
        "id": "I_aKGsc8tFz4",
        "colab_type": "code",
        "outputId": "10c9f602-6cc3-456e-b07f-6614bdaa205b",
        "colab": {
          "base_uri": "https://localhost:8080/",
          "height": 102
        }
      },
      "source": [
        "#make Iris dataste imbalance\n",
        "\n",
        "X = X[40:, :]\n",
        "y = y[40:]\n",
        "\n",
        "#change y to binary target vector\n",
        "y = np.where((y==0), 0, 1)\n",
        "\n",
        "y"
      ],
      "execution_count": 139,
      "outputs": [
        {
          "output_type": "execute_result",
          "data": {
            "text/plain": [
              "array([0, 0, 0, 0, 0, 0, 0, 0, 0, 0, 1, 1, 1, 1, 1, 1, 1, 1, 1, 1, 1, 1,\n",
              "       1, 1, 1, 1, 1, 1, 1, 1, 1, 1, 1, 1, 1, 1, 1, 1, 1, 1, 1, 1, 1, 1,\n",
              "       1, 1, 1, 1, 1, 1, 1, 1, 1, 1, 1, 1, 1, 1, 1, 1, 1, 1, 1, 1, 1, 1,\n",
              "       1, 1, 1, 1, 1, 1, 1, 1, 1, 1, 1, 1, 1, 1, 1, 1, 1, 1, 1, 1, 1, 1,\n",
              "       1, 1, 1, 1, 1, 1, 1, 1, 1, 1, 1, 1, 1, 1, 1, 1, 1, 1, 1, 1, 1, 1])"
            ]
          },
          "metadata": {
            "tags": []
          },
          "execution_count": 139
        }
      ]
    },
    {
      "cell_type": "code",
      "metadata": {
        "id": "tz7eYB7ZtGby",
        "colab_type": "code",
        "outputId": "41e6c716-1f1d-44df-c93d-ed1197a134d8",
        "colab": {
          "base_uri": "https://localhost:8080/",
          "height": 68
        }
      },
      "source": [
        "#downsampling the majority class 1 to match minority class\n",
        "\n",
        "#Indicies of each class's obs\n",
        "i_class0 = np.where(y==0)[0]\n",
        "i_class1 = np.where(y==1)[0]\n",
        "\n",
        "#number of obs in each class\n",
        "print('class 0 is', len(i_class0))\n",
        "print('class 1 is', len(i_class1))\n",
        "\n",
        "#for every obs of 0, randomly sample from class 1 without replacement\n",
        "#Generates a random sample from a given 1-D array\n",
        "i_class1_downsampled = np.random.choice(i_class1, size = len(i_class0), replace = False)\n",
        "\n",
        "#join new sample with original set==size is 20\n",
        "np.hstack((y[i_class0], y[i_class1_downsampled]))"
      ],
      "execution_count": 140,
      "outputs": [
        {
          "output_type": "stream",
          "text": [
            "class 0 is 10\n",
            "class 1 is 100\n"
          ],
          "name": "stdout"
        },
        {
          "output_type": "execute_result",
          "data": {
            "text/plain": [
              "array([0, 0, 0, 0, 0, 0, 0, 0, 0, 0, 1, 1, 1, 1, 1, 1, 1, 1, 1, 1])"
            ]
          },
          "metadata": {
            "tags": []
          },
          "execution_count": 140
        }
      ]
    },
    {
      "cell_type": "code",
      "metadata": {
        "id": "d9wTziJ0Dd5-",
        "colab_type": "code",
        "outputId": "8d7b0471-cf86-4ce5-c0cf-3bd26090d45e",
        "colab": {
          "base_uri": "https://localhost:8080/",
          "height": 34
        }
      },
      "source": [
        "#upsampling, for every obs in class 1, randomly sample from class 0 with replacement)\n",
        "i_class0_upsampled = np.random.choice(i_class0, size = len(i_class1), replace = True)\n",
        "#join two samples, but need to take out old class 0 samples\n",
        "final = np.concatenate((y[i_class1], y[i_class0_upsampled]))\n",
        "final.size"
      ],
      "execution_count": 141,
      "outputs": [
        {
          "output_type": "execute_result",
          "data": {
            "text/plain": [
              "200"
            ]
          },
          "metadata": {
            "tags": []
          },
          "execution_count": 141
        }
      ]
    },
    {
      "cell_type": "markdown",
      "metadata": {
        "id": "Qg01its3Qy1i",
        "colab_type": "text"
      },
      "source": [
        "# Data Normalization"
      ]
    },
    {
      "cell_type": "code",
      "metadata": {
        "id": "bHMUGle6E5jj",
        "colab_type": "code",
        "colab": {
          "base_uri": "https://localhost:8080/",
          "height": 102
        },
        "outputId": "b730f6bf-04ed-43e9-ce58-0cf8de51a189"
      },
      "source": [
        "#http://mathworld.wolfram.com/L2-Norm.html\n",
        "from sklearn.preprocessing import Normalizer\n",
        "#create feature matrix\n",
        "\n",
        "X = np.array([[.5, .5],\n",
        "              [1.1, 3.4],\n",
        "              [1.5, 2.62],\n",
        "              [1.63, 34.4],\n",
        "              [10.9, 3.3]])\n",
        "\n",
        "#initiate normilizer\n",
        "normalizer = Normalizer(norm = 'l2')\n",
        "#every element divide its length( which is sqrt(a**2 + b**2))==>l2 norm\n",
        "#l1 norm is absoluted value of the vector length\n",
        "normalizer.transform(X)"
      ],
      "execution_count": 153,
      "outputs": [
        {
          "output_type": "execute_result",
          "data": {
            "text/plain": [
              "array([[0.70710678, 0.70710678],\n",
              "       [0.30782029, 0.95144452],\n",
              "       [0.4968522 , 0.86783518],\n",
              "       [0.04733062, 0.99887928],\n",
              "       [0.95709822, 0.28976368]])"
            ]
          },
          "metadata": {
            "tags": []
          },
          "execution_count": 153
        }
      ]
    },
    {
      "cell_type": "code",
      "metadata": {
        "id": "5BVc92SbQ6x0",
        "colab_type": "code",
        "colab": {
          "base_uri": "https://localhost:8080/",
          "height": 102
        },
        "outputId": "98768343-b1b5-477a-e730-1b9408cd1067"
      },
      "source": [
        "#rescale using Min- Max\n",
        "from sklearn.preprocessing import MinMaxScaler\n",
        "\n",
        "MinMaxScaler(feature_range=(0,1)).fit_transform(X)"
      ],
      "execution_count": 188,
      "outputs": [
        {
          "output_type": "execute_result",
          "data": {
            "text/plain": [
              "array([[0.        , 0.        ],\n",
              "       [0.05769231, 0.08554572],\n",
              "       [0.09615385, 0.06253687],\n",
              "       [0.10865385, 1.        ],\n",
              "       [1.        , 0.08259587]])"
            ]
          },
          "metadata": {
            "tags": []
          },
          "execution_count": 188
        }
      ]
    },
    {
      "cell_type": "code",
      "metadata": {
        "id": "8kzEuHGlXacO",
        "colab_type": "code",
        "colab": {
          "base_uri": "https://localhost:8080/",
          "height": 102
        },
        "outputId": "762c3b6c-7947-4fef-f70f-1031c346cd87"
      },
      "source": [
        "#standardize features\n",
        "\n",
        "from sklearn.preprocessing import StandardScaler\n",
        "\n",
        "StandardScaler().fit_transform(X)"
      ],
      "execution_count": 190,
      "outputs": [
        {
          "output_type": "execute_result",
          "data": {
            "text/plain": [
              "array([[-0.67215216, -0.65082607],\n",
              "       [-0.51857589, -0.42462813],\n",
              "       [-0.4161917 , -0.48546758],\n",
              "       [-0.38291684,  1.99334984],\n",
              "       [ 1.9898366 , -0.43242806]])"
            ]
          },
          "metadata": {
            "tags": []
          },
          "execution_count": 190
        }
      ]
    },
    {
      "cell_type": "markdown",
      "metadata": {
        "id": "YngOJonpX9ky",
        "colab_type": "text"
      },
      "source": [
        "# Apply Data Preprocessing to iris data"
      ]
    },
    {
      "cell_type": "code",
      "metadata": {
        "id": "KXg-uncFiM0c",
        "colab_type": "code",
        "colab": {}
      },
      "source": [
        "iris = load_iris()\n",
        "\n",
        "X = iris.data\n",
        "\n",
        "y= iris.target"
      ],
      "execution_count": 0,
      "outputs": []
    },
    {
      "cell_type": "code",
      "metadata": {
        "id": "UwfQA0jSX0mX",
        "colab_type": "code",
        "colab": {}
      },
      "source": [
        "#split data for cross validation\n",
        "from sklearn.model_selection import train_test_split\n",
        "\n",
        "X_train, X_test, y_train, y_test = train_test_split(X, y, test_size = 0.3, random_state = 123)"
      ],
      "execution_count": 0,
      "outputs": []
    },
    {
      "cell_type": "code",
      "metadata": {
        "id": "zJR61d7wiQ82",
        "colab_type": "code",
        "colab": {
          "base_uri": "https://localhost:8080/",
          "height": 34
        },
        "outputId": "00553b54-ebb6-4403-d03e-0725ca25c4ed"
      },
      "source": [
        "y_train[:5]"
      ],
      "execution_count": 215,
      "outputs": [
        {
          "output_type": "execute_result",
          "data": {
            "text/plain": [
              "array([2, 2, 1, 0, 0])"
            ]
          },
          "metadata": {
            "tags": []
          },
          "execution_count": 215
        }
      ]
    },
    {
      "cell_type": "markdown",
      "metadata": {
        "id": "FCqu07kLdh7O",
        "colab_type": "text"
      },
      "source": [
        ""
      ]
    },
    {
      "cell_type": "code",
      "metadata": {
        "id": "wa-qbkojdhiA",
        "colab_type": "code",
        "colab": {}
      },
      "source": [
        "from sklearn.pipeline import Pipeline\n",
        "from sklearn.svm import SVC"
      ],
      "execution_count": 0,
      "outputs": []
    },
    {
      "cell_type": "code",
      "metadata": {
        "id": "b1MTaLS0d8tg",
        "colab_type": "code",
        "colab": {}
      },
      "source": [
        "iris_pipe = Pipeline(steps = [('scaler', StandardScaler()),('SVM', SVC())])"
      ],
      "execution_count": 0,
      "outputs": []
    },
    {
      "cell_type": "code",
      "metadata": {
        "id": "a4PTM7MPe9__",
        "colab_type": "code",
        "colab": {}
      },
      "source": [
        "#initiate parameters for svm\n",
        "parameters = {'SVM__C':[0.001, 0.1, 10, 100], 'SVM__gamma':[0.1, 0.01]}"
      ],
      "execution_count": 0,
      "outputs": []
    },
    {
      "cell_type": "code",
      "metadata": {
        "id": "9uW8VY4tfP-6",
        "colab_type": "code",
        "colab": {}
      },
      "source": [
        "from sklearn.model_selection import GridSearchCV\n",
        "\n",
        "grid = GridSearchCV(iris_pipe, param_grid=parameters, cv = 3)"
      ],
      "execution_count": 0,
      "outputs": []
    },
    {
      "cell_type": "code",
      "metadata": {
        "id": "yR_Zkt5CfT-j",
        "colab_type": "code",
        "colab": {
          "base_uri": "https://localhost:8080/",
          "height": 34
        },
        "outputId": "dc50d18c-0c11-4e00-e016-7152a55db684"
      },
      "source": [
        "#train the data with grid search CV\n",
        "grid.fit(X_train,y_train)\n",
        "\n",
        "print('score = %3.2f' %(grid.score(X_test,y_test)))"
      ],
      "execution_count": 220,
      "outputs": [
        {
          "output_type": "stream",
          "text": [
            "score = 0.96\n"
          ],
          "name": "stdout"
        }
      ]
    }
  ]
}